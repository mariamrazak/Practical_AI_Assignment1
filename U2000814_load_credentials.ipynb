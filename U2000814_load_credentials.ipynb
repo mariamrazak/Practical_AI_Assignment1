{
 "cells": [
  {
   "cell_type": "code",
   "execution_count": null,
   "id": "0f12551c-8a4d-489a-a6f1-b264462a1ca0",
   "metadata": {},
   "outputs": [],
   "source": [
    "import os  \n",
    "import configparser  \n",
    "\n",
    "# Load configuration from the file  \n",
    "def load_credentials_from_file(config_file):  \n",
    "    config = configparser.ConfigParser()  \n",
    "    config.read(config_file)  \n",
    "    \n",
    "    username = config['DEFAULT']['username']  \n",
    "    password = config['DEFAULT']['password']  \n",
    "    \n",
    "    return username, password  \n",
    "\n",
    "# Load credentials from environment variables  \n",
    "def load_credentials_from_env():  \n",
    "    username = os.getenv('APP_USERNAME')  \n",
    "    password = os.getenv('APP_PASSWORD')  \n",
    "    \n",
    "    return username, password  \n",
    "\n",
    "def get_credentials(config_file='config.ini'):  \n",
    "    # Try to load credentials from environment first  \n",
    "    username, password = load_credentials_from_env()  \n",
    "    \n",
    "    if username is None or password is None:  \n",
    "        # If environment variables are not set, fall back to the config file  \n",
    "        username, password = load_credentials_from_file(config_file)  \n",
    "    \n",
    "    return username, password  \n",
    "\n",
    "# Usage  \n",
    "if __name__ == \"__main__\":  \n",
    "    username, password = get_credentials()  \n",
    "    print(f'Username: {username}, Password: {password}')"
   ]
  },
  {
   "cell_type": "code",
   "execution_count": 2,
   "id": "080163b1-8897-429d-8a94-d9e6814ba5ae",
   "metadata": {},
   "outputs": [
    {
     "name": "stdout",
     "output_type": "stream",
     "text": [
      "Initialized empty Git repository in C:/Users/Acer/Desktop/ARTIFICIAL INTELLIGENCE/SEMESTER 7/PRACTICAL AI/ASSIGNMENT_1/.git/\n"
     ]
    }
   ],
   "source": [
    "!git init\n"
   ]
  },
  {
   "cell_type": "code",
   "execution_count": 3,
   "id": "8d5a6463-fbb9-4293-bd82-5f7d210b20cd",
   "metadata": {},
   "outputs": [
    {
     "name": "stdout",
     "output_type": "stream",
     "text": [
      "On branch master\n",
      "\n",
      "No commits yet\n",
      "\n",
      "Untracked files:\n",
      "  (use \"git add <file>...\" to include in what will be committed)\n",
      "\t.ipynb_checkpoints/\n",
      "\tU2000814_load_credentials.ipynb\n",
      "\tapp.py\n",
      "\tconfig.ini\n",
      "\tgitignore.txt\n",
      "\n",
      "nothing added to commit but untracked files present (use \"git add\" to track)\n"
     ]
    }
   ],
   "source": [
    "!git status\n"
   ]
  },
  {
   "cell_type": "code",
   "execution_count": null,
   "id": "f676bea5-7c46-498e-8502-488322310ced",
   "metadata": {},
   "outputs": [],
   "source": [
    "!git config --global user.name \"Your Name\"\n",
    "!git config --global user.email \"your.email@example.com\"\n"
   ]
  }
 ],
 "metadata": {
  "kernelspec": {
   "display_name": "Python 3 (ipykernel)",
   "language": "python",
   "name": "python3"
  },
  "language_info": {
   "codemirror_mode": {
    "name": "ipython",
    "version": 3
   },
   "file_extension": ".py",
   "mimetype": "text/x-python",
   "name": "python",
   "nbconvert_exporter": "python",
   "pygments_lexer": "ipython3",
   "version": "3.9.19"
  }
 },
 "nbformat": 4,
 "nbformat_minor": 5
}
